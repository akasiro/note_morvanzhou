{
 "cells": [
  {
   "cell_type": "markdown",
   "metadata": {},
   "source": [
    "# Multiprocessing\n",
    "https://morvanzhou.github.io/tutorials/python-basic/multiprocessing/1-why/"
   ]
  },
  {
   "cell_type": "code",
   "execution_count": 16,
   "metadata": {},
   "outputs": [],
   "source": [
    "import multiprocessing as mp\n",
    "import threading as td\n",
    "import time"
   ]
  },
  {
   "cell_type": "markdown",
   "metadata": {},
   "source": [
    "## 1 add processs"
   ]
  },
  {
   "cell_type": "code",
   "execution_count": 4,
   "metadata": {},
   "outputs": [
    {
     "name": "stdout",
     "output_type": "stream",
     "text": [
      "aaaaa\n"
     ]
    }
   ],
   "source": [
    "# 与threading相似\n",
    "def job(a,d):\n",
    "    print('aaaaa')\n",
    "    \n",
    "if __name__ =='__main__':\n",
    "    # t1 = td.Thread(target=job, args=(1,2))\n",
    "    p1 = mp.Process(target=job, args=(1,2))\n",
    "\n",
    "    # t1.start()\n",
    "    p1.start()\n",
    "\n",
    "    # t1.join()\n",
    "    p1.join()"
   ]
  },
  {
   "cell_type": "markdown",
   "metadata": {},
   "source": [
    "## 2 存储进程输出Queue"
   ]
  },
  {
   "cell_type": "code",
   "execution_count": 12,
   "metadata": {},
   "outputs": [
    {
     "name": "stdout",
     "output_type": "stream",
     "text": [
      "<multiprocessing.queues.Queue object at 0x7fca620beed0>\n",
      "499667166000\n"
     ]
    }
   ],
   "source": [
    "def job(q):\n",
    "    '''\n",
    "    job 不能有return，结果存储在Queue对象中，并且Queue要作为参数传入\n",
    "    Args:\n",
    "        q (Queue): Queue object for output\n",
    "    '''\n",
    "    res = 0\n",
    "    for i in range(1000):\n",
    "        res += i+i**2 + i**3\n",
    "    q.put(res) # queue\n",
    "\n",
    "if __name__ == '__main__':\n",
    "    q = mp.Queue()\n",
    "    p1 = mp.Process(target=job, args=(q,)) #只有一个参数也必须有逗号\n",
    "    p2 = mp.Process(target=job, args=(q,))\n",
    "    p1.start()\n",
    "    p2.start()\n",
    "    p1.join()\n",
    "    p2.join()\n",
    "    print(q)\n",
    "    res1 = q.get()\n",
    "    res2 = q.get()\n",
    "    print(res1+res2)"
   ]
  },
  {
   "cell_type": "markdown",
   "metadata": {},
   "source": [
    "## 3.进程池"
   ]
  },
  {
   "cell_type": "code",
   "execution_count": 14,
   "metadata": {},
   "outputs": [
    {
     "name": "stdout",
     "output_type": "stream",
     "text": [
      "[0, 1, 4, 9, 16, 25, 36, 49, 64, 81]\n",
      "4\n",
      "[0, 1, 4, 9, 16, 25, 36, 49, 64, 81]\n"
     ]
    }
   ],
   "source": [
    "def job(x):\n",
    "    return x*x\n",
    "\n",
    "def multicore():\n",
    "    pool = mp.Pool()\n",
    "    res = pool.map(job, range(10))\n",
    "    print(res)\n",
    "    res = pool.apply_async(job, (2,))\n",
    "    # 用get获得结果\n",
    "    print(res.get())\n",
    "    # 迭代器，i=0时apply一次，i=1时apply一次等等\n",
    "    multi_res = [pool.apply_async(job, (i,)) for i in range(10)]\n",
    "    # 从迭代器中取出\n",
    "    print([res.get() for res in multi_res])\n",
    "if __name__ == '__main__':\n",
    "    multicore()"
   ]
  },
  {
   "cell_type": "markdown",
   "metadata": {},
   "source": [
    "## 4. shared memory"
   ]
  },
  {
   "cell_type": "code",
   "execution_count": 15,
   "metadata": {},
   "outputs": [],
   "source": [
    "value = mp.Value('d',1) #需要定义数值形式。例如d\n",
    "array = mp.Array('i', [1,2,3])"
   ]
  },
  {
   "cell_type": "markdown",
   "metadata": {},
   "source": [
    "## 5. 进程锁 lock"
   ]
  },
  {
   "cell_type": "code",
   "execution_count": 19,
   "metadata": {},
   "outputs": [
    {
     "name": "stdout",
     "output_type": "stream",
     "text": [
      "1\n",
      "2\n",
      "3\n",
      "4\n",
      "5\n",
      "8\n",
      "11\n",
      "14\n",
      "17\n",
      "20\n"
     ]
    }
   ],
   "source": [
    "def job(v, num, l):\n",
    "    l.acquire()\n",
    "    for _ in range(5):\n",
    "        time.sleep(0.1) # 暂停0.1秒，让输出效果更明显\n",
    "        v.value += num # v.value获取共享变量值\n",
    "        print(v.value)#, end=\"\")\n",
    "    l.release()\n",
    "def multicore():\n",
    "    l = mp.Lock()\n",
    "    v = mp.Value('i', 0) # 定义共享变量\n",
    "    p1 = mp.Process(target=job, args=(v,1,l))\n",
    "    p2 = mp.Process(target=job, args=(v,3,l)) # 设定不同的number看如何抢夺内存\n",
    "    p1.start()\n",
    "    p2.start()\n",
    "    p1.join()\n",
    "    p2.join()\n",
    "    \n",
    "if __name__ == '__main__':\n",
    "    multicore()"
   ]
  },
  {
   "cell_type": "code",
   "execution_count": null,
   "metadata": {},
   "outputs": [],
   "source": []
  }
 ],
 "metadata": {
  "kernelspec": {
   "display_name": "Python 3",
   "language": "python",
   "name": "python3"
  },
  "language_info": {
   "codemirror_mode": {
    "name": "ipython",
    "version": 3
   },
   "file_extension": ".py",
   "mimetype": "text/x-python",
   "name": "python",
   "nbconvert_exporter": "python",
   "pygments_lexer": "ipython3",
   "version": "3.7.6"
  }
 },
 "nbformat": 4,
 "nbformat_minor": 4
}
